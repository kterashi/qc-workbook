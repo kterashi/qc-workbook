{
 "cells": [
  {
   "cell_type": "markdown",
   "id": "428ffc86",
   "metadata": {},
   "source": [
    "# ToffoliゲートとShorコード\n",
    "\n",
    "```{contents} 目次\n",
    "---\n",
    "local: true\n",
    "---\n",
    "```\n",
    "\n",
    "$\\newcommand{\\ket}[1]{|#1\\rangle}$\n",
    "$\\newcommand{\\braket}[2]{\\langle #1 | #2 \\rangle}$\n",
    "\n",
    "量子プログラミング演習として、Toffoliゲートの基本ゲートでの分解を考え、それを使ってShorコードでエラー訂正をしてみましょう。"
   ]
  },
  {
   "cell_type": "markdown",
   "id": "b02fd580",
   "metadata": {},
   "source": [
    "## 量子エラー訂正\n",
    "\n",
    "IBMQをはじめ、私たちが現在利用できる量子コンピュータは NISQ (Noisy, intermediate-scale quantum) デバイスと呼ばれ、計算途中にエラーが起こるとそこから回復することができません。エラーが量子回路の実行時間やゲート数の増加とともに重なる様子は、すでに講義に出てきたさまざまな例で観察いただけたと思います。量子コンピュータがクラウド上で使えると言っても結局まともな計算はできない、という印象を持たれた方も多いかと思います。じっさい、NISQの最も現実的な使い道は、Shorの素因数分解アルゴリズムなどの「真の」量子計算ではなく、VQEなどの量子・古典ハイブリッド計算で、ゲート数が少なく、かつ多少間違えが起きても最終的な結果に大きく影響しないようなものだと考えられています。\n",
    "\n",
    "では、真の量子計算ができるようになる条件とは何でしょうか。エラーが起こらない量子コンピュータを作ること、という答えは当然考えられますが、これは原理的に不可能です。なぜなら、量子コンピュータにおけるエラーとはすなわち量子ビットに外部環境が影響を及ぼすことであり、\n",
    "エラーが起こらない ＝ 量子ビットが完全に孤立した系にある\n",
    "となるわけですが、一方で、\n",
    "量子ビットをコンピュータとして使える ＝ 量子ビットを外部から操作できる ＝ 量子ビットは孤立していない\n",
    "も言えるからです。\n",
    "\n",
    "次に考えられるのは、エラーの発生率を極力低くして、エラーが発生する前に全ての計算を終えること（NISQの延長）ですが、例えば2048ビットの整数の素因数分解をエラーなしで完遂するには、エラー率が$10^{-8}$よりもはるかに低くないといけません。現在のマシンのエラー率が$10^{-2}$から$10^{-3}$程度なので、これはあまり現実的なゴールではありません。また、そもそもエラーは確率的に起こるので、どんなに短い回路でもエラーが乗ることはありえます。\n",
    "\n",
    "実は、難しそうに見えて一番実現可能性があるのが、**計算途中にエラーが起きたとき、それを検知して訂正すること**です。回路の実行中にリアルタイムでエラー訂正が行えれば、訂正のための様々なコスト（追加の量子ビットやゲート）はあるものの、計算結果だけを見ればエラーのない理想的な量子コンピュータを使うのと同じものが得られます。そのような量子コンピュータは FTQC (Fault-tolerant quantum computers) と呼ばれ、NISQとは質的に異なるものとみなされています。\n",
    "\n",
    "エラーというのはノイズなどコントロールできない要因でランダムに発生するものなので、量子エラー訂正が可能であるということ自体が非自明で驚くべき事実です。その背景には量子力学の原理があり、どんなエラーも、量子ビットへの影響だけを見れば、有限の量子演算子の組み合わせがかかるのと等価であるということが示されています。したがって、それらの影響を検知し打ち消すような量子回路を組むことができれば、エラー訂正が実現されます。\n",
    "\n",
    "量子エラー訂正については古くから研究がなされており、すでに複数の方法が知られています。それでもまだFTQCが実現されていないのは、エラー訂正自体に多数の量子ビットが必要である上に、絶対的なエラー率が一定値以下でなければいけないからです。エラーが訂正できると言っても、訂正するための回路自体がエラーでデタラメになってしまうようでは元も子もないので、やはりある程度の安定性が必要なのです。しかし逆に、それぞれのエラー訂正プロトコルについて、求められるエラー率の上限値が存在することが知られています。つまり、エラー率がどこまでも低くなければいけないということはなく、一定値以下であればエラー訂正を繰り返して任意の長さの量子回路を実行できるということです。これをエラー率の「閾値定理」といい、エラーの種類が有限であるという事実と合わせて、エラー訂正というアプローチの強力な下支えになっています。\n",
    "\n",
    "一般にエラー訂正をするには、個々の量子ビットの状態を、複数のエンタングルした量子ビットの状態に「エンコード」します。エンコーディングの結果生じる、1量子ビット分の情報を保持する複数量子ビットのまとまりを**論理量子ビット**と呼び、論理量子ビットから元の（物理的）量子ビットの状態を復元することをデコーディングと呼びます。特定のエラーに対して耐性がある（エラーの補正を可能にする）論理量子ビットの組み方のことをエラー訂正コードと言います。論理量子ビットに対して論理ゲートや論理測定を考えることができるので、FTQCでの量子計算の最小単位は、何らかのエラー訂正コードで作られた論理量子ビットとなると考えられています。\n",
    "\n",
    "エラー訂正は奥の深い研究領域ですが、今回の演習では本格的な話はせず、比較的単純な「Shorコード」というエラー訂正コードの実装だけを考えます。Shorコードは素因数分解のアルゴリズムを発案したPeter Shorのもう一つの重要な発明で、最初に実現されるFTQCで採用されるプロトコルの有力候補ではありませんが、エラー訂正という手法を理解するのにとても役に立ちます。"
   ]
  },
  {
   "cell_type": "markdown",
   "id": "49ef5195",
   "metadata": {},
   "source": [
    "## Toffoliゲート\n",
    "\n",
    "Shorコードやそのベースとなるビット反転・位相反転コードのデコーディングで欠かせないのがToffoliゲート(CCX)です。"
   ]
  },
  {
   "cell_type": "code",
   "execution_count": 1,
   "id": "707f6842",
   "metadata": {
    "tags": [
     "remove-input"
    ]
   },
   "outputs": [
    {
     "data": {
      "image/png": "[encoded data removed]",
      "text/plain": [
       "<Figure size 203.885x284.278 with 1 Axes>"
      ]
     },
     "execution_count": 1,
     "metadata": {},
     "output_type": "execute_result"
    }
   ],
   "source": [
    "from qiskit import QuantumCircuit\n",
    "\n",
    "circuit = QuantumCircuit(3)\n",
    "circuit.ccx(0, 1, 2)\n",
    "circuit.draw('mpl')"
   ]
  },
  {
   "cell_type": "markdown",
   "id": "7b57d9f9",
   "metadata": {},
   "source": [
    "Toffoliゲートはエラー訂正だけでなく、多重制御ゲートの基本パーツとなるため、さまざまな場面で登場します。また理論的には、ToffoliゲートとHadamardゲートの組み合わせで全ての量子演算が実現できる（普遍ゲートセットとなる）ことから、Toffoliゲートは特別重要な存在です。\n",
    "\n",
    "一見単純そうに見えるToffoliゲートですが、超伝導量子回路などの実機で、基本ゲートが1量子ビットゲートと2量子ビットゲートのみからなる（IBMのケースでは$X$, $\\sqrt{X}$, $R_z$, CX）場合、実装（基本ゲートへの分解）は非自明です。これから、Toffoliゲートの一つの分解方法をステップごとに導いてみましょう。"
   ]
  },
  {
   "cell_type": "code",
   "execution_count": 2,
   "id": "8c543a7d",
   "metadata": {},
   "outputs": [],
   "source": [
    "# まずは必要なモジュールをインポートする\n",
    "import numpy as np\n",
    "from qiskit import QuantumCircuit\n",
    "from qiskit.circuit import Parameter\n",
    "from qiskit.quantum_info.operators import Operator\n",
    "from IPython.display import Latex\n",
    "\n",
    "from qc_workbook.show_state import show_state, statevector_expr"
   ]
  },
  {
   "cell_type": "code",
   "execution_count": 3,
   "id": "e8705bd7",
   "metadata": {},
   "outputs": [],
   "source": [
    "def show_circuit_op(circuit, global_phase=0.):\n",
    "    \"\"\"Compiles the LaTeX expression of the operation of the circuit on computational basis states.\"\"\"\n",
    "\n",
    "    op = Operator(circuit)\n",
    "\n",
    "    unitary = op.data * np.exp(-1.j * global_phase)\n",
    "\n",
    "    ket_template = fr'|{{:0{circuit.num_qubits}b}}\\rangle'\n",
    "\n",
    "    exprs = list()\n",
    "    for icol, col in enumerate(unitary.T):\n",
    "        expr = statevector_expr(col, binary=True, state_label=None)\n",
    "        exprs.append(fr'{ket_template.format(icol)} & \\rightarrow {expr}')\n",
    "\n",
    "    return Latex(r'\\begin{align} ' + r' \\\\ '.join(exprs) + r' \\end{align}')"
   ]
  },
  {
   "cell_type": "markdown",
   "id": "0405429b",
   "metadata": {},
   "source": [
    "## CPゲート\n",
    "\n",
    "最初の問題は、制御$P$（$CP$）ゲートをCXと$R_z$から作ることです。おさらいをすると、CPゲートとは、2量子ビットゲートで、パラメータ$\\phi$を取り、二つの量子ビットがともに$\\ket{1}$であるような計算基底の位相を$\\phi$前進させるゲートのことでした。\n",
    "\n",
    "```{math}\n",
    "    CP(\\phi) \\ket{00} & = \\ket{00} \\\\\n",
    "    CP(\\phi) \\ket{01} & = \\ket{01} \\\\\n",
    "    CP(\\phi) \\ket{10} & = \\ket{10} \\\\\n",
    "    CP(\\phi) \\ket{11} & = e^{i\\phi} \\ket{11}\n",
    "```\n",
    "\n",
    "**ヒント1**\n",
    "\n",
    "まず制御$R_z$（$CR_z$）ゲートをCXと$R_z$から作ることを考えてみましょう。$CR_z$の作用は、左を制御ビット、右を標的ビットとして\n",
    "\n",
    "```{math}\n",
    "    CR_z(\\phi) \\ket{00} & = \\ket{00} \\\\\n",
    "    CR_z(\\phi) \\ket{01} & = \\ket{01} \\\\\n",
    "    CR_z(\\phi) \\ket{10} & = e^{-i\\phi/2} \\ket{10} \\\\\n",
    "    CR_z(\\phi) \\ket{11} & = e^{i\\phi/2} \\ket{11}\n",
    "```\n",
    "\n",
    "です。$CR_z$が作れれば、制御ビットに$R_z$をかけることで、$\\ket{00}, \\ket{01}, \\ket{10}$の位相を揃えることができ、$CP$ゲートに全体位相がかかった状態が実現できます。全体位相は無視していいので、それで$CP$ゲートの完成です。\n",
    "\n",
    "**ヒント2**\n",
    "\n",
    "$R_z$を$X$で挟むと、$R_z$のパラメータの符号を反転させたのと同じ作用が得られます。\n",
    "\n",
    "```{image} figs/rz_x_rz_x.png\n",
    ":alt: rz_x_rz_x\n",
    ":width: 400px\n",
    ":align: center\n",
    "```"
   ]
  },
  {
   "cell_type": "code",
   "execution_count": 4,
   "id": "7a33ad18",
   "metadata": {
    "tags": [
     "remove-output"
    ]
   },
   "outputs": [
    {
     "data": {
      "image/png": "[encoded data removed]",
      "text/plain": [
       "<Figure size 161.878x200.667 with 1 Axes>"
      ]
     },
     "execution_count": 4,
     "metadata": {},
     "output_type": "execute_result"
    }
   ],
   "source": [
    "cp_circuit = QuantumCircuit(2, name='CP')\n",
    "\n",
    "phi = Parameter('$\\phi$')\n",
    "\n",
    "# cp_circuit が CP(phi)を実装するようにゲートを加えてください。\n",
    "# phiは普通の変数のように使えます。\n",
    "# 例： cp_circuit.rz(phi, 1)\n",
    "\n",
    "##################\n",
    "### EDIT BELOW ###\n",
    "##################\n",
    "\n",
    "##################\n",
    "### EDIT ABOVE ###\n",
    "##################\n",
    "\n",
    "cp_circuit.draw('mpl')"
   ]
  },
  {
   "cell_type": "code",
   "execution_count": 5,
   "id": "2ec9b099",
   "metadata": {
    "tags": [
     "raises-exception",
     "remove-output"
    ]
   },
   "outputs": [
    {
     "ename": "CircuitError",
     "evalue": "'Cannot bind parameters ($\\\\phi$) not present in the circuit.'",
     "output_type": "error",
     "traceback": [
      "\u001b[0;31m---------------------------------------------------------------------------\u001b[0m",
      "\u001b[0;31mCircuitError\u001b[0m                              Traceback (most recent call last)",
      "Cell \u001b[0;32mIn[5], line 3\u001b[0m\n\u001b[1;32m      1\u001b[0m \u001b[38;5;66;03m# phiに具体的な値を入れて、CPが実装されていることを確認\u001b[39;00m\n\u001b[1;32m      2\u001b[0m phi_value \u001b[38;5;241m=\u001b[39m np\u001b[38;5;241m.\u001b[39mpi \u001b[38;5;241m/\u001b[39m \u001b[38;5;241m4.\u001b[39m\n\u001b[0;32m----> 3\u001b[0m show_circuit_op(\u001b[43mcp_circuit\u001b[49m\u001b[38;5;241;43m.\u001b[39;49m\u001b[43mbind_parameters\u001b[49m\u001b[43m(\u001b[49m\u001b[43m{\u001b[49m\u001b[43mphi\u001b[49m\u001b[43m:\u001b[49m\u001b[43m \u001b[49m\u001b[43mphi_value\u001b[49m\u001b[43m}\u001b[49m\u001b[43m)\u001b[49m, global_phase\u001b[38;5;241m=\u001b[39m(\u001b[38;5;241m-\u001b[39mphi_value \u001b[38;5;241m/\u001b[39m \u001b[38;5;241m4.\u001b[39m))\n",
      "File \u001b[0;32m/usr/local/lib/python3.10/dist-packages/qiskit/circuit/quantumcircuit.py:2735\u001b[0m, in \u001b[0;36mQuantumCircuit.bind_parameters\u001b[0;34m(self, values)\u001b[0m\n\u001b[1;32m   2731\u001b[0m     \u001b[38;5;28;01mif\u001b[39;00m \u001b[38;5;28many\u001b[39m(\u001b[38;5;28misinstance\u001b[39m(value, ParameterExpression) \u001b[38;5;28;01mfor\u001b[39;00m value \u001b[38;5;129;01min\u001b[39;00m values\u001b[38;5;241m.\u001b[39mvalues()):\n\u001b[1;32m   2732\u001b[0m         \u001b[38;5;28;01mraise\u001b[39;00m \u001b[38;5;167;01mTypeError\u001b[39;00m(\n\u001b[1;32m   2733\u001b[0m             \u001b[38;5;124m\"\u001b[39m\u001b[38;5;124mFound ParameterExpression in values; use assign_parameters() instead.\u001b[39m\u001b[38;5;124m\"\u001b[39m\n\u001b[1;32m   2734\u001b[0m         )\n\u001b[0;32m-> 2735\u001b[0m     \u001b[38;5;28;01mreturn\u001b[39;00m \u001b[38;5;28;43mself\u001b[39;49m\u001b[38;5;241;43m.\u001b[39;49m\u001b[43massign_parameters\u001b[49m\u001b[43m(\u001b[49m\u001b[43mvalues\u001b[49m\u001b[43m)\u001b[49m\n\u001b[1;32m   2736\u001b[0m \u001b[38;5;28;01melse\u001b[39;00m:\n\u001b[1;32m   2737\u001b[0m     \u001b[38;5;28;01mif\u001b[39;00m \u001b[38;5;28many\u001b[39m(\u001b[38;5;28misinstance\u001b[39m(value, ParameterExpression) \u001b[38;5;28;01mfor\u001b[39;00m value \u001b[38;5;129;01min\u001b[39;00m values):\n",
      "File \u001b[0;32m/usr/local/lib/python3.10/dist-packages/qiskit/circuit/quantumcircuit.py:2687\u001b[0m, in \u001b[0;36mQuantumCircuit.assign_parameters\u001b[0;34m(self, parameters, inplace)\u001b[0m\n\u001b[1;32m   2681\u001b[0m params_not_in_circuit \u001b[38;5;241m=\u001b[39m [\n\u001b[1;32m   2682\u001b[0m     param_key\n\u001b[1;32m   2683\u001b[0m     \u001b[38;5;28;01mfor\u001b[39;00m param_key \u001b[38;5;129;01min\u001b[39;00m unrolled_param_dict\n\u001b[1;32m   2684\u001b[0m     \u001b[38;5;28;01mif\u001b[39;00m param_key \u001b[38;5;129;01mnot\u001b[39;00m \u001b[38;5;129;01min\u001b[39;00m unsorted_parameters\n\u001b[1;32m   2685\u001b[0m ]\n\u001b[1;32m   2686\u001b[0m \u001b[38;5;28;01mif\u001b[39;00m \u001b[38;5;28mlen\u001b[39m(params_not_in_circuit) \u001b[38;5;241m>\u001b[39m \u001b[38;5;241m0\u001b[39m:\n\u001b[0;32m-> 2687\u001b[0m     \u001b[38;5;28;01mraise\u001b[39;00m CircuitError(\n\u001b[1;32m   2688\u001b[0m         \u001b[38;5;124m\"\u001b[39m\u001b[38;5;124mCannot bind parameters (\u001b[39m\u001b[38;5;132;01m{}\u001b[39;00m\u001b[38;5;124m) not present in the circuit.\u001b[39m\u001b[38;5;124m\"\u001b[39m\u001b[38;5;241m.\u001b[39mformat(\n\u001b[1;32m   2689\u001b[0m             \u001b[38;5;124m\"\u001b[39m\u001b[38;5;124m, \u001b[39m\u001b[38;5;124m\"\u001b[39m\u001b[38;5;241m.\u001b[39mjoin(\u001b[38;5;28mmap\u001b[39m(\u001b[38;5;28mstr\u001b[39m, params_not_in_circuit))\n\u001b[1;32m   2690\u001b[0m         )\n\u001b[1;32m   2691\u001b[0m     )\n\u001b[1;32m   2693\u001b[0m \u001b[38;5;66;03m# replace the parameters with a new Parameter (\"substitute\") or numeric value (\"bind\")\u001b[39;00m\n\u001b[1;32m   2694\u001b[0m \u001b[38;5;28;01mfor\u001b[39;00m parameter, value \u001b[38;5;129;01min\u001b[39;00m unrolled_param_dict\u001b[38;5;241m.\u001b[39mitems():\n",
      "\u001b[0;31mCircuitError\u001b[0m: 'Cannot bind parameters ($\\\\phi$) not present in the circuit.'"
     ]
    }
   ],
   "source": [
    "# phiに具体的な値を入れて、CPが実装されていることを確認\n",
    "phi_value = np.pi / 4.\n",
    "show_circuit_op(cp_circuit.bind_parameters({phi: phi_value}), global_phase=(-phi_value / 4.))"
   ]
  },
  {
   "cell_type": "markdown",
   "id": "c22a02ad",
   "metadata": {},
   "source": [
    "$CP$は`QuantumCircuit`オブジェクトにもメソッド`cp`として備わっているので、以下では（回路図の見やすさを考慮して）標準メソッドを使うことにします。"
   ]
  },
  {
   "cell_type": "markdown",
   "id": "8c4eb2ce",
   "metadata": {},
   "source": [
    "## CCZゲート\n",
    "\n",
    "次に、$CP$ゲートの特殊ケース（$\\phi=\\pi$）である制御$Z$（CZ）ゲートを二重制御に拡張したCCZゲートを、$CP$とCXを組み合わせて実装します。\n",
    "\n",
    "```{math}\n",
    "    \\text{CCZ} \\ket{k} & = \\ket{k} \\; \\text{for}\\; 000 \\leq k \\leq 110 \\\\\n",
    "    \\text{CCZ} \\ket{111} & = -\\ket{111}\n",
    "```"
   ]
  },
  {
   "cell_type": "code",
   "execution_count": 6,
   "id": "851e4fe9",
   "metadata": {
    "tags": [
     "remove-output"
    ]
   },
   "outputs": [
    {
     "data": {
      "image/png": "[encoded data removed]",
      "text/plain": [
       "<Figure size 454.719x284.278 with 1 Axes>"
      ]
     },
     "execution_count": 6,
     "metadata": {},
     "output_type": "execute_result"
    }
   ],
   "source": [
    "ccz_circuit = QuantumCircuit(3, name='CCZ')\n",
    "\n",
    "# ccz_circuit が CCZを実装するようにゲートを加えてください。\n",
    "\n",
    "ccz_circuit.cp(np.pi / 2., 1, 0)\n",
    "ccz_circuit.cp(np.pi / 2., 2, 0)\n",
    "\n",
    "# 上の二行で|111>の符号が反転しますが、同時に|011>と|101>の符号も変わってしまうので、それを訂正する方法を考えてください。\n",
    "\n",
    "##################\n",
    "### EDIT BELOW ###\n",
    "##################\n",
    "\n",
    "##################\n",
    "### EDIT ABOVE ###\n",
    "##################\n",
    "\n",
    "ccz_circuit.draw('mpl')"
   ]
  },
  {
   "cell_type": "code",
   "execution_count": 7,
   "id": "640a28e2",
   "metadata": {
    "tags": [
     "remove-output"
    ]
   },
   "outputs": [
    {
     "data": {
      "text/latex": [
       "\\begin{align} |000\\rangle & \\rightarrow  |000\\rangle \\\\ |001\\rangle & \\rightarrow  |001\\rangle \\\\ |010\\rangle & \\rightarrow  |010\\rangle \\\\ |011\\rangle & \\rightarrow i |011\\rangle \\\\ |100\\rangle & \\rightarrow  |100\\rangle \\\\ |101\\rangle & \\rightarrow i |101\\rangle \\\\ |110\\rangle & \\rightarrow  |110\\rangle \\\\ |111\\rangle & \\rightarrow  -  |111\\rangle \\end{align}"
      ],
      "text/plain": [
       "<IPython.core.display.Latex object>"
      ]
     },
     "execution_count": 7,
     "metadata": {},
     "output_type": "execute_result"
    }
   ],
   "source": [
    "show_circuit_op(ccz_circuit)"
   ]
  },
  {
   "cell_type": "markdown",
   "id": "c85da695",
   "metadata": {},
   "source": [
    "## Hadamardゲート\n",
    "\n",
    "次にHadamardゲートの$R_z$と$\\sqrt{X}$への分解を考えます。$\\sqrt{X}$の作用は\n",
    "\n",
    "```{math}\n",
    "    \\sqrt{X} \\ket{0} & = \\frac{1}{\\sqrt{2}} \\left[e^{\\frac{\\pi}{4}i} \\ket{0} + e^{-i\\frac{\\pi}{4}} \\ket{1}\\right] \\\\\n",
    "    \\sqrt{X} \\ket{1} & = \\frac{1}{\\sqrt{2}} \\left[e^{-\\frac{\\pi}{4}i} \\ket{0} + e^{i\\frac{\\pi}{4}} \\ket{1}\\right]\n",
    "```\n",
    "\n",
    "です。\n",
    "\n",
    "**ヒント**\n",
    "\n",
    "$R_z(\\phi)\\ket{0}$や$R_z(\\phi)\\ket{1}$に$\\sqrt{X}$をかけるとどうなるか、また$\\sqrt{X}$をかけた後の状態に$R_z(\\phi)$をかけたらどうなるか、計算してみましょう。今回も全体位相が生じます。"
   ]
  },
  {
   "cell_type": "code",
   "execution_count": 8,
   "id": "d8e91a38",
   "metadata": {
    "tags": [
     "remove-output"
    ]
   },
   "outputs": [
    {
     "data": {
      "image/png": "[encoded data removed]",
      "text/plain": [
       "<Figure size 143.647x117.056 with 1 Axes>"
      ]
     },
     "execution_count": 8,
     "metadata": {},
     "output_type": "execute_result"
    }
   ],
   "source": [
    "h_circuit = QuantumCircuit(1, name='H')\n",
    "\n",
    "# h_circuit が Hを実装するようにゲートを加えてください。\n",
    "\n",
    "##################\n",
    "### EDIT BELOW ###\n",
    "##################\n",
    "\n",
    "##################\n",
    "### EDIT ABOVE ###\n",
    "##################\n",
    "\n",
    "h_circuit.draw('mpl')"
   ]
  },
  {
   "cell_type": "code",
   "execution_count": 9,
   "id": "a5120a78",
   "metadata": {
    "tags": [
     "remove-output"
    ]
   },
   "outputs": [
    {
     "data": {
      "text/latex": [
       "\\begin{align} |0\\rangle & \\rightarrow e^{0.25 \\cdot \\pi i} |0\\rangle \\\\ |1\\rangle & \\rightarrow e^{0.25 \\cdot \\pi i} |1\\rangle \\end{align}"
      ],
      "text/plain": [
       "<IPython.core.display.Latex object>"
      ]
     },
     "execution_count": 9,
     "metadata": {},
     "output_type": "execute_result"
    }
   ],
   "source": [
    "show_circuit_op(h_circuit, global_phase=(-1. / 4. * np.pi))"
   ]
  },
  {
   "cell_type": "markdown",
   "id": "04c8e493",
   "metadata": {},
   "source": [
    "## Toffoliゲート\n",
    "\n",
    "$Z$ゲートを$H$ゲートで挟むと$X$ゲートと等価になることを思い出して、CCZと$H$からCCXを作ってください。"
   ]
  },
  {
   "cell_type": "code",
   "execution_count": 10,
   "id": "cc5ddb3d",
   "metadata": {
    "tags": [
     "remove-output"
    ]
   },
   "outputs": [
    {
     "data": {
      "image/png": "[encoded data removed]",
      "text/plain": [
       "<Figure size 162.08x284.278 with 1 Axes>"
      ]
     },
     "execution_count": 10,
     "metadata": {},
     "output_type": "execute_result"
    }
   ],
   "source": [
    "toffoli_circuit = QuantumCircuit(3, name='Toffoli')\n",
    "\n",
    "# toffoli_circuit が Toffoliを実装するようにゲートを加えてください。\n",
    "# 量子ビット0が標的、1と2が制御とします。\n",
    "# Hadamardゲートには toffoli_circuit.h()を使って構いません。\n",
    "\n",
    "##################\n",
    "### EDIT BELOW ###\n",
    "##################\n",
    "\n",
    "##################\n",
    "### EDIT ABOVE ###\n",
    "##################\n",
    "\n",
    "toffoli_circuit.draw('mpl')"
   ]
  },
  {
   "cell_type": "code",
   "execution_count": 11,
   "id": "ffd56860",
   "metadata": {
    "tags": [
     "remove-output"
    ]
   },
   "outputs": [
    {
     "data": {
      "text/latex": [
       "\\begin{align} |000\\rangle & \\rightarrow  |000\\rangle \\\\ |001\\rangle & \\rightarrow  |001\\rangle \\\\ |010\\rangle & \\rightarrow  |010\\rangle \\\\ |011\\rangle & \\rightarrow  |011\\rangle \\\\ |100\\rangle & \\rightarrow  |100\\rangle \\\\ |101\\rangle & \\rightarrow  |101\\rangle \\\\ |110\\rangle & \\rightarrow  |110\\rangle \\\\ |111\\rangle & \\rightarrow  |111\\rangle \\end{align}"
      ],
      "text/plain": [
       "<IPython.core.display.Latex object>"
      ]
     },
     "execution_count": 11,
     "metadata": {},
     "output_type": "execute_result"
    }
   ],
   "source": [
    "show_circuit_op(toffoli_circuit)"
   ]
  },
  {
   "cell_type": "markdown",
   "id": "5671d2c4",
   "metadata": {},
   "source": [
    "## 量子エラーとエラー訂正\n",
    "\n",
    "冒頭で述べたように、量子エラーは有限個の量子演算子の作用として捉えることができます。特に、1量子ビットのエラーは、量子ビットに$X$、$Z$、$XZ$のどれかがかかることと等価です。$X$がかかるようなエラーをビット反転（bit flip）エラー、$Z$のケースを位相反転（phase flip）エラー、$XZ$のケースを複合（combined bit-phase flip）エラーと呼びます。"
   ]
  },
  {
   "cell_type": "markdown",
   "id": "da6dacc0",
   "metadata": {},
   "source": [
    "### ビット反転（$X$）エラー\n",
    "\n",
    "Shorコードの元になるのはビット反転コードという、量子ビットを3つ使うエラー訂正コードです。ビット反転コードは、その名が示唆するようにビット反転エラーに対してのみ耐性を持ちます。論理量子ビットでの計算途中で3つの量子ビットのうちのどれかにビット反転エラーが一度だけ起きるとき、デコーディングの過程でエラーが補正されます。\n",
    "\n",
    "ビット反転コードのエンコーディングは\n",
    "\n",
    "```{math}\n",
    "    \\ket{0_L} & = \\ket{000} \\\\\n",
    "    \\ket{1_L} & = \\ket{111}\n",
    "```\n",
    "\n",
    "です。ここで$\\ket{0_L}$と$\\ket{1_L}$はそれぞれ「論理$\\ket{0}$状態」と「論理$\\ket{1}$状態」を表します。\n",
    "\n",
    "以下では、適当な状態に初期化した量子ビットをビット反転コードでエンコードし、論理量子ビットに論理$Z$ゲートをかける過程でどれかひとつの（物理）量子ビットにビット反転エラーが起きるというシナリオを考えます。デコーディングの際にToffoliゲートを使うと、エラーが補正されます。"
   ]
  },
  {
   "cell_type": "code",
   "execution_count": 12,
   "id": "d232aa4d",
   "metadata": {
    "tags": [
     "remove-output"
    ]
   },
   "outputs": [
    {
     "data": {
      "image/png": "[encoded data removed]",
      "text/plain": [
       "<Figure size 789.163x284.278 with 1 Axes>"
      ]
     },
     "execution_count": 12,
     "metadata": {},
     "output_type": "execute_result"
    }
   ],
   "source": [
    "bitflip_circuit = QuantumCircuit(3)\n",
    "\n",
    "# データ量子ビット（第0ビット）を適当な状態に初期化\n",
    "bitflip_circuit.u(0.2, 0.7, 0., 0)\n",
    "bitflip_circuit.barrier()\n",
    "\n",
    "# データビットの|0>が|000>に、|1>が|111>にエンコードされるように量子ビットをエンタングルさせてください\n",
    "##################\n",
    "### EDIT BELOW ###\n",
    "##################\n",
    "\n",
    "##################\n",
    "### EDIT ABOVE ###\n",
    "##################\n",
    "\n",
    "bitflip_circuit.barrier()\n",
    "\n",
    "# 論理ZゲートはZZZ\n",
    "bitflip_circuit.z([0, 1, 2])\n",
    "\n",
    "# 0から2のどれかひとつの量子ビットにX（ビット反転）がかかる\n",
    "bitflip_circuit.x(np.random.randint(3))\n",
    "\n",
    "bitflip_circuit.barrier()\n",
    "\n",
    "# デコーディング：状態が|000>, |001>, |010>, |100>のときデータビットが|0>になり、\n",
    "# |111>, |110>, |101>, |011>のとき|1>になるようにCXとToffoliを組んでください（Toffoliはすでに書き込んであります）\n",
    "##################\n",
    "### EDIT BELOW ###\n",
    "##################\n",
    "\n",
    "...\n",
    "\n",
    "# 0が標的、1と2が制御\n",
    "bitflip_circuit.ccx(1, 2, 0)\n",
    "\n",
    "##################\n",
    "### EDIT ABOVE ###\n",
    "##################\n",
    "\n",
    "bitflip_circuit.draw('mpl')"
   ]
  },
  {
   "cell_type": "code",
   "execution_count": 13,
   "id": "af5e3be8",
   "metadata": {
    "tags": [
     "remove-output"
    ]
   },
   "outputs": [
    {
     "data": {
      "image/png": "[encoded data removed]",
      "text/plain": [
       "<Figure size 1000x50 with 1 Axes>"
      ]
     },
     "metadata": {},
     "output_type": "display_data"
    }
   ],
   "source": [
    "show_state(bitflip_circuit, binary=True);"
   ]
  },
  {
   "cell_type": "markdown",
   "id": "715e5f77",
   "metadata": {},
   "source": [
    "第1と第2量子ビット（Qiskitの順番なので左二桁）の状態が同一である＝第3量子ビットとのエンタングルメントが切れていれば、正しくデコードされています。第0ビットの状態をエラーのない単一量子ビット回路のものと比較します。"
   ]
  },
  {
   "cell_type": "code",
   "execution_count": 14,
   "id": "d72695f1",
   "metadata": {},
   "outputs": [
    {
     "data": {
      "image/png": "[encoded data removed]",
      "text/plain": [
       "<Figure size 1000x50 with 1 Axes>"
      ]
     },
     "metadata": {},
     "output_type": "display_data"
    }
   ],
   "source": [
    "ref_circuit = QuantumCircuit(1)\n",
    "\n",
    "ref_circuit.u(0.2, 0.7, 0., 0)\n",
    "ref_circuit.z(0)\n",
    "show_state(ref_circuit, binary=True);"
   ]
  },
  {
   "cell_type": "markdown",
   "id": "dcebda9c",
   "metadata": {},
   "source": [
    "### 位相反転（$Z$）エラー\n",
    "\n",
    "次に、位相反転に対してのみ耐性を持つ3量子ビットのエラー訂正コードを考えます。$Z$を$H$で挟むと$X$になることを思い出すと、ビット反転コードを転用できることがすぐにわかります。"
   ]
  },
  {
   "cell_type": "code",
   "execution_count": 15,
   "id": "02fc4e6a",
   "metadata": {
    "tags": [
     "remove-output"
    ]
   },
   "outputs": [
    {
     "data": {
      "image/png": "[encoded data removed]",
      "text/plain": [
       "<Figure size 789.163x284.278 with 1 Axes>"
      ]
     },
     "execution_count": 15,
     "metadata": {},
     "output_type": "execute_result"
    }
   ],
   "source": [
    "phaseflip_circuit = QuantumCircuit(3)\n",
    "\n",
    "phaseflip_circuit.u(0.2, 0.7, 0., 0)\n",
    "phaseflip_circuit.barrier()\n",
    "\n",
    "# エンコーディング\n",
    "##################\n",
    "### EDIT BELOW ###\n",
    "##################\n",
    "\n",
    "##################\n",
    "### EDIT ABOVE ###\n",
    "##################\n",
    "\n",
    "phaseflip_circuit.barrier()\n",
    "\n",
    "# 位相反転コードの論理ZゲートはXXX\n",
    "phaseflip_circuit.x([0, 1, 2])\n",
    "\n",
    "# ランダムに位相反転エラーが発生\n",
    "phaseflip_circuit.z(np.random.randint(3))\n",
    "\n",
    "phaseflip_circuit.barrier()\n",
    "\n",
    "# デコーディング\n",
    "##################\n",
    "### EDIT BELOW ###\n",
    "##################\n",
    "\n",
    "...\n",
    "\n",
    "phaseflip_circuit.ccx(1, 2, 0)\n",
    "\n",
    "##################\n",
    "### EDIT ABOVE ###\n",
    "##################\n",
    "\n",
    "phaseflip_circuit.draw('mpl')"
   ]
  },
  {
   "cell_type": "code",
   "execution_count": 16,
   "id": "67371b54",
   "metadata": {
    "tags": [
     "remove-output"
    ]
   },
   "outputs": [
    {
     "data": {
      "image/png": "[encoded data removed]",
      "text/plain": [
       "<Figure size 1000x50 with 1 Axes>"
      ]
     },
     "metadata": {},
     "output_type": "display_data"
    }
   ],
   "source": [
    "show_state(phaseflip_circuit, binary=True);"
   ]
  },
  {
   "cell_type": "markdown",
   "id": "578a750a",
   "metadata": {},
   "source": [
    "### Shorコード\n",
    "\n",
    "Shorコードは位相反転コードの物理量子ビットにビット反転コードの論理量子ビットを使って作ります。全部で9つの量子ビットを使い、全ての1量子ビットエラー（$X, Z, XZ$）に耐性を持ちます。"
   ]
  },
  {
   "cell_type": "code",
   "execution_count": 17,
   "id": "118a62e9",
   "metadata": {
    "tags": [
     "remove-output"
    ]
   },
   "outputs": [
    {
     "data": {
      "image/png": "[encoded data removed]",
      "text/plain": [
       "<Figure size 872.774x785.944 with 1 Axes>"
      ]
     },
     "execution_count": 17,
     "metadata": {},
     "output_type": "execute_result"
    }
   ],
   "source": [
    "shor_circuit = QuantumCircuit(9)\n",
    "\n",
    "shor_circuit.u(0.2, 0.7, 0., 0)\n",
    "shor_circuit.barrier()\n",
    "\n",
    "# エンコーディング\n",
    "##################\n",
    "### EDIT BELOW ###\n",
    "##################\n",
    "\n",
    "##################\n",
    "### EDIT ABOVE ###\n",
    "##################\n",
    "\n",
    "shor_circuit.barrier()\n",
    "\n",
    "# Shorコードの論理ZゲートもXXXXXXXXX\n",
    "shor_circuit.x(range(9))\n",
    "\n",
    "# ランダムにビットと位相が反転\n",
    "erroneous_qubit = np.random.randint(9)\n",
    "error = np.random.choice(['x', 'z', 'xz'])\n",
    "if 'x' in error:\n",
    "    shor_circuit.x(erroneous_qubit)\n",
    "if 'z' in error:\n",
    "    shor_circuit.z(erroneous_qubit)\n",
    "\n",
    "shor_circuit.barrier()\n",
    "\n",
    "# デコーディング\n",
    "##################\n",
    "### EDIT BELOW ###\n",
    "##################\n",
    "\n",
    "...\n",
    "\n",
    "# ビット反転補正のためのToffoli\n",
    "for itarg in [0, 3, 6]:\n",
    "    shor_circuit.ccx(itarg + 1, itarg + 2, itarg)\n",
    "\n",
    "...\n",
    "\n",
    "# 位相反転補正のためのToffoli\n",
    "shor_circuit.ccx(3, 6, 0)\n",
    "\n",
    "##################\n",
    "### EDIT ABOVE ###\n",
    "##################\n",
    "\n",
    "shor_circuit.draw('mpl')"
   ]
  },
  {
   "cell_type": "code",
   "execution_count": 18,
   "id": "f2775f69",
   "metadata": {
    "tags": [
     "remove-output"
    ]
   },
   "outputs": [
    {
     "data": {
      "image/png": "[encoded data removed]",
      "text/plain": [
       "<Figure size 1000x50 with 1 Axes>"
      ]
     },
     "metadata": {},
     "output_type": "display_data"
    }
   ],
   "source": [
    "if error == 'xz':\n",
    "    global_phase = -np.pi\n",
    "else:\n",
    "    global_phase = 0.\n",
    "\n",
    "show_state(shor_circuit, global_phase=global_phase, binary=True);"
   ]
  }
 ],
 "metadata": {
  "jupytext": {
   "notebook_metadata_filter": "all",
   "text_representation": {
    "extension": ".md",
    "format_name": "myst",
    "format_version": 0.13,
    "jupytext_version": "1.14.5"
   }
  },
  "kernelspec": {
   "display_name": "Python 3 (ipykernel)",
   "language": "python",
   "name": "python3"
  },
  "language_info": {
   "codemirror_mode": {
    "name": "ipython",
    "version": 3
   },
   "file_extension": ".py",
   "mimetype": "text/x-python",
   "name": "python",
   "nbconvert_exporter": "python",
   "pygments_lexer": "ipython3",
   "version": "3.10.6"
  },
  "source_map": [
   23,
   38,
   62,
   68,
   76,
   82,
   93,
   109,
   145,
   167,
   173,
   177,
   188,
   211,
   215,
   232,
   250,
   254,
   260,
   280,
   284,
   290,
   307,
   353,
   357,
   361,
   367,
   373,
   416,
   420,
   426,
   481
  ]
 },
 "nbformat": 4,
 "nbformat_minor": 5
}